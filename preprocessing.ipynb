{
 "cells": [
  {
   "cell_type": "code",
   "execution_count": 1,
   "id": "c01409c1",
   "metadata": {},
   "outputs": [],
   "source": [
    "import os \n",
    "import pandas as pd\n",
    "from sklearn.preprocessing import StandardScaler\n",
    "import warnings\n",
    "from pathlib import Path\n",
    "import matplotlib.pyplot as plt\n",
    "import seaborn as sns\n",
    "import re\n",
    "warnings.filterwarnings('ignore')"
   ]
  },
  {
   "cell_type": "code",
   "execution_count": 2,
   "id": "a2eb8464",
   "metadata": {},
   "outputs": [],
   "source": [
    "# === CONFIG ===\n",
    "TEST_SUBJECT = \"S4\"  # test on S4; train on the rest\n",
    "DATA_DIR = Path(r\"./OpportunityUCIDataset/dataset\")  # change this to your .dat directory\n",
    "OUT_DIR  = Path(r\".\")\n",
    "def get_index(string):\n",
    "    \"\"\"\n",
    "    Helper function to extract the index from a line.\n",
    "    get the index of the first alphabet in the string after the 9th index\n",
    "\n",
    "    Args:\n",
    "    line (str): Input line containing index information.\n",
    "\n",
    "    Returns:\n",
    "    int: Extracted index.\n",
    "    \"\"\"\n",
    "\n",
    "    for i in range(9,len(string)):\n",
    "        if string[i].isalpha():\n",
    "            return i\n",
    "    return -1\n",
    "names_file = DATA_DIR.parent / \"column_names.txt\"   # adjust if different name\n",
    "with open(os.path.join(DATA_DIR, \"column_names.txt\"), 'r') as f:\n",
    "    lines = f.read().splitlines()\n",
    "    columns = []\n",
    "    for line in lines:\n",
    "        if 'Column' in line:\n",
    "            # Extract column names and append to the list\n",
    "            columns.append(line[get_index(line):].split(\";\")[0])"
   ]
  },
  {
   "cell_type": "code",
   "execution_count": null,
   "id": "bebffde1",
   "metadata": {},
   "outputs": [
    {
     "name": "stdout",
     "output_type": "stream",
     "text": [
      "Train files: ['S1-ADL1.dat', 'S1-ADL2.dat', 'S1-ADL3.dat', 'S1-ADL4.dat', 'S1-ADL5.dat', 'S1-Drill.dat', 'S2-ADL1.dat', 'S2-ADL2.dat', 'S2-ADL3.dat', 'S2-ADL4.dat', 'S2-ADL5.dat', 'S2-Drill.dat', 'S3-ADL1.dat', 'S3-ADL2.dat', 'S3-ADL3.dat', 'S3-ADL4.dat', 'S3-ADL5.dat', 'S3-Drill.dat']\n",
      "Test files: ['S4-ADL1.dat', 'S4-ADL2.dat', 'S4-ADL3.dat', 'S4-ADL4.dat', 'S4-ADL5.dat', 'S4-Drill.dat']\n",
      "Saved train.csv (676,713 rows), test.csv (192,674 rows)\n"
     ]
    }
   ],
   "source": [
    "READ_KW = dict(\n",
    "    sep=r\"\\s+\",\n",
    "    header=None,\n",
    "    engine=\"python\",\n",
    "    na_values=[\"NaN\", \"nan\"]\n",
    ")\n",
    "\n",
    "all_files = sorted(DATA_DIR.glob(\"S*-*.dat\"))\n",
    "train_files = [f for f in all_files if not f.name.startswith(TEST_SUBJECT)]\n",
    "test_files  = [f for f in all_files if f.name.startswith(TEST_SUBJECT)]\n",
    "\n",
    "print(\"Train files:\", [f.name for f in train_files])\n",
    "print(\"Test files:\", [f.name for f in test_files])\n",
    "\n",
    "# Determine number of columns\n",
    "n_cols = pd.read_csv(train_files[0], nrows=1, **READ_KW).shape[1]\n",
    "\n",
    "# Read & concat\n",
    "train_df = pd.concat([pd.read_csv(f, **READ_KW) for f in train_files], ignore_index=True)\n",
    "test_df  = pd.concat([pd.read_csv(f, **READ_KW) for f in test_files], ignore_index=True)\n",
    "\n",
    "# Sanity check\n",
    "assert train_df.shape[1] == n_cols\n",
    "assert test_df.shape[1] == n_cols\n",
    "\n",
    "# Save\n",
    "train_path = OUT_DIR / \"train.csv\"\n",
    "test_path  = OUT_DIR / \"test.csv\"\n",
    "train_df.columns = columns\n",
    "test_df.columns = columns\n",
    "train_df.to_csv(train_path, index=False, header=False)\n",
    "test_df.to_csv(test_path,  index=False, header=False)\n",
    "\n",
    "print(f\"Saved train.csv ({len(train_df):,} rows), test.csv ({len(test_df):,} rows)\")"
   ]
  },
  {
   "cell_type": "code",
   "execution_count": null,
   "id": "dc332b55",
   "metadata": {},
   "outputs": [],
   "source": [
    "train_df.columns = columns\n",
    "test_df.columns = columns"
   ]
  },
  {
   "cell_type": "code",
   "execution_count": 5,
   "id": "538b3ccf",
   "metadata": {},
   "outputs": [
    {
     "name": "stdout",
     "output_type": "stream",
     "text": [
      "Accelerometer RH accZ    57.986621\n",
      "Accelerometer RH accY    57.986621\n",
      "Accelerometer RH accX    57.986621\n",
      "Accelerometer LH accZ    13.282588\n",
      "Accelerometer LH accY    13.282588\n",
      "                           ...    \n",
      "LL_Left_Arm               0.000000\n",
      "LL_Left_Arm_Object        0.000000\n",
      "LL_Right_Arm              0.000000\n",
      "LL_Right_Arm_Object       0.000000\n",
      "ML_Both_Arms              0.000000\n",
      "Length: 250, dtype: float64\n",
      "524841    95.6\n",
      "524848    95.6\n",
      "524833    95.6\n",
      "524834    95.6\n",
      "524819    95.6\n",
      "          ... \n",
      "480938     0.0\n",
      "480939     0.0\n",
      "480940     0.0\n",
      "480941     0.0\n",
      "480942     0.0\n",
      "Length: 676713, dtype: float64\n"
     ]
    }
   ],
   "source": [
    "na_counts = train_df.isna().mean().sort_values(ascending=False) * 100\n",
    "print(na_counts)\n",
    "row_na_counts = train_df.isna().mean(axis=1).sort_values(ascending=False) * 100\n",
    "print(row_na_counts)"
   ]
  },
  {
   "cell_type": "code",
   "execution_count": 6,
   "id": "88d8983f",
   "metadata": {},
   "outputs": [
    {
     "data": {
      "image/png": "[encoded data removed]",
      "text/plain": [
       "<Figure size 1200x200 with 1 Axes>"
      ]
     },
     "metadata": {},
     "output_type": "display_data"
    }
   ],
   "source": [
    "plt.figure(figsize=(12,2))\n",
    "sns.heatmap(train_df[[\"Accelerometer RH accX\",\"Accelerometer RH accY\",\"Accelerometer RH accZ\"]].isna(), cbar=False)\n",
    "plt.title(\"NA pattern for sensor X/Y/Z\")\n",
    "plt.show()"
   ]
  },
  {
   "cell_type": "code",
   "execution_count": 8,
   "id": "26529ec8",
   "metadata": {},
   "outputs": [],
   "source": [
    "def uniquify_columns(columns):\n",
    "    seen = {}\n",
    "    out = []\n",
    "    for c in columns:\n",
    "        if c not in seen:\n",
    "            seen[c] = 0\n",
    "            out.append(c)\n",
    "        else:\n",
    "            seen[c] += 1\n",
    "            out.append(f\"{c}__dup{seen[c]}\")\n",
    "    return out\n",
    "\n",
    "if train_df.columns.duplicated().any():\n",
    "    df = train_df.copy()\n",
    "    train_df.columns = uniquify_columns(df.columns)\n",
    "if test_df.columns.duplicated().any():\n",
    "    df = test_df.copy()\n",
    "    test_df.columns = uniquify_columns(df.columns)\n"
   ]
  },
  {
   "cell_type": "code",
   "execution_count": 9,
   "id": "978b304e",
   "metadata": {},
   "outputs": [],
   "source": [
    "window = 5 \n",
    "num_cols = train_df.select_dtypes(include=\"number\").columns\n",
    "train_df[num_cols] = train_df[num_cols].apply(\n",
    "    lambda col: col.fillna(col.rolling(window, min_periods=1, center=True).mean())\n",
    ")\n",
    "test_df[num_cols] = test_df[num_cols].apply(\n",
    "    lambda col: col.fillna(col.rolling(window, min_periods=1, center=True).mean())\n",
    ")"
   ]
  },
  {
   "cell_type": "code",
   "execution_count": 10,
   "id": "a0f9cf5d",
   "metadata": {},
   "outputs": [],
   "source": [
    "for col in train_df.columns:\n",
    "    train_df[col] = train_df[col].interpolate(method=\"linear\").fillna(method=\"bfill\").fillna(method=\"ffill\")\n",
    "    test_df[col] = test_df[col].interpolate(method=\"linear\").fillna(method=\"bfill\").fillna(method=\"ffill\")\n"
   ]
  },
  {
   "cell_type": "code",
   "execution_count": null,
   "id": "1f81e1dd",
   "metadata": {},
   "outputs": [],
   "source": [
    "scaler = StandardScaler()\n",
    "train_df[train_df.columns[:-7]] = scaler.fit_transform(train_df[train_df.columns[:-7]])\n",
    "test_df[test_df.columns[:-7]] = scaler.transform(test_df[test_df.columns[:-7]])"
   ]
  },
  {
   "cell_type": "code",
   "execution_count": 14,
   "id": "785c4e56",
   "metadata": {},
   "outputs": [],
   "source": [
    "train_df.to_csv(train_path, index=False)\n",
    "test_df.to_csv(test_path,  index=False)"
   ]
  }
 ],
 "metadata": {
  "kernelspec": {
   "display_name": "Python 3",
   "language": "python",
   "name": "python3"
  },
  "language_info": {
   "codemirror_mode": {
    "name": "ipython",
    "version": 3
   },
   "file_extension": ".py",
   "mimetype": "text/x-python",
   "name": "python",
   "nbconvert_exporter": "python",
   "pygments_lexer": "ipython3",
   "version": "3.13.7"
  }
 },
 "nbformat": 4,
 "nbformat_minor": 5
}
